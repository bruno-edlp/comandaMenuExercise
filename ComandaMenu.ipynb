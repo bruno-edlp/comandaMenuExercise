{
  "nbformat": 4,
  "nbformat_minor": 0,
  "metadata": {
    "colab": {
      "provenance": [],
      "authorship_tag": "ABX9TyOY72yrd5BwlxIoGMdUy27n",
      "include_colab_link": true
    },
    "kernelspec": {
      "name": "python3",
      "display_name": "Python 3"
    },
    "language_info": {
      "name": "python"
    }
  },
  "cells": [
    {
      "cell_type": "markdown",
      "metadata": {
        "id": "view-in-github",
        "colab_type": "text"
      },
      "source": [
        "<a href=\"https://colab.research.google.com/github/bruno-edlp/comandaMenuExercise/blob/main/ComandaMenu.ipynb\" target=\"_parent\"><img src=\"https://colab.research.google.com/assets/colab-badge.svg\" alt=\"Open In Colab\"/></a>"
      ]
    },
    {
      "cell_type": "code",
      "execution_count": null,
      "metadata": {
        "colab": {
          "base_uri": "https://localhost:8080/"
        },
        "id": "CMIkFt6894E5",
        "outputId": "410658ac-f3a3-4a7d-d1a2-b8491dfeac77"
      },
      "outputs": [
        {
          "output_type": "stream",
          "name": "stdout",
          "text": [
            "Requirement already satisfied: numpy in /usr/local/lib/python3.10/dist-packages (1.25.2)\n"
          ]
        }
      ],
      "source": [
        "#Importação das bibliotecas\n",
        "!pip install numpy"
      ]
    },
    {
      "cell_type": "code",
      "source": [
        "#Variaveis do sistema\n",
        "\n",
        "nomeProduto = []\n",
        "valorUnitario = []\n",
        "qtdProduto = []\n",
        "categoria = []\n",
        "totalProduto = []\n",
        "regNomeProduto = ''\n",
        "regValorUnitario = ''\n",
        "regQtdProduto = ''\n",
        "regCategoria = ''\n",
        "regTotalProduto = ''"
      ],
      "metadata": {
        "id": "mXJ3SgOQ_KEr"
      },
      "execution_count": null,
      "outputs": []
    },
    {
      "cell_type": "code",
      "source": [
        "#Criação das funções\n",
        "#Função de Registro de produtos\n",
        "def registrarConsumo(regNomeProduto,regValorUnitario, regQtdProduto, regCategoria, regTotalProduto):\n",
        "  #Pergunta ao usuario qual o produto\n",
        "  regNomeProduto = input('Informe o produto: ')\n",
        "  #Adiciona o produto a lista\n",
        "  nomeProduto.append(regNomeProduto)\n",
        "\n",
        "  regValorUnitario = float(input('Defina o valor do Produto: '))\n",
        "  valorUnitario.append(regValorUnitario)\n",
        "\n",
        "  regQtdProduto = int(input('Qual a quantidade: '))\n",
        "  qtdProduto.append(regQtdProduto)\n",
        "\n",
        "  regCategoria = input('Informe a categoria: ')\n",
        "  categoria.append(regCategoria)\n",
        "\n",
        "  regTotalProduto = regQtdProduto*regValorUnitario\n",
        "  totalProduto.append(regTotalProduto)\n",
        "\n",
        "#Função de finalizar comanda\n",
        "import numpy as np\n",
        "def finalizarComanda():\n",
        "  # Salvar os valores\n",
        "  # var = np.array(LISTA)\n",
        "  # somar valores\n",
        "  # varSoma = np.sum(var)\n",
        "  totalComanda = np.array(totalProduto)\n",
        "  somaTotalComanda = np.sum(totalComanda)\n",
        "  print(f\"Olá! O total da sua comanda deu: {somaTotalComanda}\")\n",
        "  pergunta = input(\"Deseja dividir a conta? S/N \")\n",
        "  if pergunta.lower() == 's' or pergunta.lower() == 'sim':\n",
        "    qtdPessoas = int(input('Quantas pessoas vão dividir a conta? '))\n",
        "    print(f\"O total para cada pessoa é: {somaTotalComanda/qtdPessoas}\")\n",
        "  else:\n",
        "    print(f\"O total da compra foi de: {somaTotalComanda}\")\n",
        "\n",
        "#Função de limpar a comanda\n",
        "def limparComanda():\n",
        "  nomeProduto = []\n",
        "  valorUnitario = []\n",
        "  qtdProduto = []\n",
        "  categoria = []\n",
        "  totalProduto = []\n",
        "  regNomeProduto = ''\n",
        "  regValorUnitario = ''\n",
        "  regQtdProduto = ''\n",
        "  regCategoria = ''\n",
        "  regTotalProduto = ''"
      ],
      "metadata": {
        "id": "l2MS184B_uBa"
      },
      "execution_count": null,
      "outputs": []
    },
    {
      "cell_type": "code",
      "source": [
        "#Condições e execução do codigo\n",
        "\n",
        "def main():\n",
        "  print(f\"Bem vindo ao ComandaMenu!\")\n",
        "  print('==========================')\n",
        "  print(f\"1 - Você pode registrar um produto\")\n",
        "  print(f\"Outro - Você pode finalizar seu pedido\")\n",
        "  op = int(input('O que deseja fazer? '))\n",
        "  while op ==1:\n",
        "    registrarConsumo(regNomeProduto, regValorUnitario, regQtdProduto, regCategoria, regTotalProduto)\n",
        "    op = int(input(\"Cadastrar outro? \"))\n",
        "\n",
        "  finalizarComanda()\n"
      ],
      "metadata": {
        "id": "hup5q88CHamX"
      },
      "execution_count": null,
      "outputs": []
    },
    {
      "cell_type": "code",
      "source": [
        "main()\n",
        "limparComanda()"
      ],
      "metadata": {
        "colab": {
          "base_uri": "https://localhost:8080/"
        },
        "id": "teDjysZBI0ux",
        "outputId": "d0bddd80-37dc-4726-ea99-67c53653bd3e"
      },
      "execution_count": null,
      "outputs": [
        {
          "output_type": "stream",
          "name": "stdout",
          "text": [
            "Bem vindo ao ComandaMenu!\n",
            "==========================\n",
            "1 - Você pode registrar um produto\n",
            "Outro - Você pode finalizar seu pedido\n",
            "O que deseja fazer? 1\n",
            "Informe o produto: Bolacha\n",
            "Defina o valor do Produto: 2\n",
            "Qual a quantidade: 3\n",
            "Informe a categoria: Consumiveis\n",
            "Cadastrar outro? 1\n",
            "Informe o produto: pepino\n",
            "Defina o valor do Produto: 4\n",
            "Qual a quantidade: 1\n",
            "Informe a categoria: Verduras\n",
            "Cadastrar outro? 1\n",
            "Informe o produto: Carne\n",
            "Defina o valor do Produto: 40\n",
            "Qual a quantidade: 2\n",
            "Informe a categoria: Carnes\n",
            "Cadastrar outro? 2\n",
            "Olá! O total da sua comanda deu: 90.0\n",
            "Deseja dividir a conta? S/Ns\n",
            "Quantas pessoas vão dividir a conta? 3\n",
            "O total para cada pessoa é: 30.0\n"
          ]
        }
      ]
    }
  ]
}